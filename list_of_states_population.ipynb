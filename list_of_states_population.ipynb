{
 "cells": [
  {
   "cell_type": "code",
   "execution_count": 1,
   "id": "af486d45",
   "metadata": {},
   "outputs": [
    {
     "name": "stdout",
     "output_type": "stream",
     "text": [
      "Defaulting to user installation because normal site-packages is not writeableNote: you may need to restart the kernel to use updated packages.\n",
      "\n",
      "Requirement already satisfied: requests in f:\\jyputer\\lib\\site-packages (2.31.0)\n",
      "Requirement already satisfied: beautifulsoup4 in f:\\jyputer\\lib\\site-packages (4.12.2)\n",
      "Requirement already satisfied: pandas in f:\\jyputer\\lib\\site-packages (2.0.3)\n",
      "Requirement already satisfied: charset-normalizer<4,>=2 in f:\\jyputer\\lib\\site-packages (from requests) (2.0.4)\n",
      "Requirement already satisfied: idna<4,>=2.5 in c:\\users\\syeda\\appdata\\roaming\\python\\python311\\site-packages (from requests) (2.10)\n",
      "Requirement already satisfied: urllib3<3,>=1.21.1 in f:\\jyputer\\lib\\site-packages (from requests) (1.26.16)\n",
      "Requirement already satisfied: certifi>=2017.4.17 in f:\\jyputer\\lib\\site-packages (from requests) (2023.7.22)\n",
      "Requirement already satisfied: soupsieve>1.2 in f:\\jyputer\\lib\\site-packages (from beautifulsoup4) (2.4)\n",
      "Requirement already satisfied: python-dateutil>=2.8.2 in f:\\jyputer\\lib\\site-packages (from pandas) (2.8.2)\n",
      "Requirement already satisfied: pytz>=2020.1 in f:\\jyputer\\lib\\site-packages (from pandas) (2023.3.post1)\n",
      "Requirement already satisfied: tzdata>=2022.1 in f:\\jyputer\\lib\\site-packages (from pandas) (2023.3)\n",
      "Requirement already satisfied: numpy>=1.21.0 in f:\\jyputer\\lib\\site-packages (from pandas) (1.24.3)\n",
      "Requirement already satisfied: six>=1.5 in f:\\jyputer\\lib\\site-packages (from python-dateutil>=2.8.2->pandas) (1.16.0)\n"
     ]
    }
   ],
   "source": [
    "pip install requests beautifulsoup4 pandas"
   ]
  },
  {
   "cell_type": "code",
   "execution_count": 131,
   "id": "91cd616f",
   "metadata": {},
   "outputs": [],
   "source": [
    "import requests\n",
    "\n",
    "from bs4 import BeautifulSoup\n",
    "\n",
    "import pandas as pd\n",
    "url=\"https://en.wikipedia.org/wiki/List_of_states_and_territories_of_the_United_States\""
   ]
  },
  {
   "cell_type": "code",
   "execution_count": 132,
   "id": "676eab71",
   "metadata": {},
   "outputs": [
    {
     "data": {
      "text/plain": [
       "<Response [200]>"
      ]
     },
     "execution_count": 132,
     "metadata": {},
     "output_type": "execute_result"
    }
   ],
   "source": [
    "response=requests.get(url)\n",
    "response"
   ]
  },
  {
   "cell_type": "code",
   "execution_count": 133,
   "id": "4a40b848",
   "metadata": {},
   "outputs": [],
   "source": [
    "soup=BeautifulSoup(response.content,'html.parser')"
   ]
  },
  {
   "cell_type": "code",
   "execution_count": 134,
   "id": "f95c32ee",
   "metadata": {},
   "outputs": [],
   "source": [
    "table = soup.find('table', class_='wikitable')"
   ]
  },
  {
   "cell_type": "code",
   "execution_count": 135,
   "id": "d38b0bc3",
   "metadata": {},
   "outputs": [],
   "source": [
    "# table = soup.find_all('table', class_='wikitable')\n",
    "states=[]\n",
    "\n",
    "# for tbl in table:\n",
    "#     for i in tbl.find_all('tr')[2:]:\n",
    "#         states.append(i.find('a').text)\n",
    "\n",
    "# # print(states)\n",
    "\n",
    "states =[]\n",
    "for i in table.find_all('tr')[2:]:\n",
    "    states.append(i.find('a').text)"
   ]
  },
  {
   "cell_type": "code",
   "execution_count": 136,
   "id": "82817bc3",
   "metadata": {},
   "outputs": [
    {
     "data": {
      "text/plain": [
       "['Alabama',\n",
       " 'Alaska',\n",
       " 'Arizona',\n",
       " 'Arkansas',\n",
       " 'California',\n",
       " 'Colorado',\n",
       " 'Connecticut',\n",
       " 'Delaware',\n",
       " 'Florida',\n",
       " 'Georgia',\n",
       " 'Hawaii',\n",
       " 'Idaho',\n",
       " 'Illinois',\n",
       " 'Indiana',\n",
       " 'Iowa',\n",
       " 'Kansas',\n",
       " 'Kentucky',\n",
       " 'Louisiana',\n",
       " 'Maine',\n",
       " 'Maryland',\n",
       " 'Massachusetts',\n",
       " 'Michigan',\n",
       " 'Minnesota',\n",
       " 'Mississippi',\n",
       " 'Missouri',\n",
       " 'Montana',\n",
       " 'Nebraska',\n",
       " 'Nevada',\n",
       " 'New Hampshire',\n",
       " 'New Jersey',\n",
       " 'New Mexico',\n",
       " 'New York',\n",
       " 'North Carolina',\n",
       " 'North Dakota',\n",
       " 'Ohio',\n",
       " 'Oklahoma',\n",
       " 'Oregon',\n",
       " 'Pennsylvania',\n",
       " 'Rhode Island',\n",
       " 'South Carolina',\n",
       " 'South Dakota',\n",
       " 'Tennessee',\n",
       " 'Texas',\n",
       " 'Utah',\n",
       " 'Vermont',\n",
       " 'Virginia',\n",
       " 'Washington',\n",
       " 'West Virginia',\n",
       " 'Wisconsin',\n",
       " 'Wyoming']"
      ]
     },
     "execution_count": 136,
     "metadata": {},
     "output_type": "execute_result"
    }
   ],
   "source": [
    "states"
   ]
  },
  {
   "cell_type": "code",
   "execution_count": 137,
   "id": "bd4341a7",
   "metadata": {},
   "outputs": [],
   "source": [
    "population_divs = soup.find_all('div', style='float:right;')"
   ]
  },
  {
   "cell_type": "code",
   "execution_count": 138,
   "id": "90630d6f",
   "metadata": {},
   "outputs": [
    {
     "data": {
      "text/plain": [
       "[<div style=\"float:right;\">5,024,279</div>,\n",
       " <div style=\"float:right;\">7</div>,\n",
       " <div style=\"float:right;\">733,391</div>,\n",
       " <div style=\"float:right;\">1</div>,\n",
       " <div style=\"float:right;\">7,151,502</div>,\n",
       " <div style=\"float:right;\">9</div>,\n",
       " <div style=\"float:right;\">3,011,524</div>,\n",
       " <div style=\"float:right;\">4</div>,\n",
       " <div style=\"float:right;\">39,538,223</div>,\n",
       " <div style=\"float:right;\">52</div>,\n",
       " <div style=\"float:right;\">5,773,714</div>,\n",
       " <div style=\"float:right;\">8</div>,\n",
       " <div style=\"float:right;\">3,605,944</div>,\n",
       " <div style=\"float:right;\">5</div>,\n",
       " <div style=\"float:right;\">989,948</div>,\n",
       " <div style=\"float:right;\">1</div>,\n",
       " <div style=\"float:right;\">21,538,187</div>,\n",
       " <div style=\"float:right;\">28</div>,\n",
       " <div style=\"float:right;\">10,711,908</div>,\n",
       " <div style=\"float:right;\">14</div>,\n",
       " <div style=\"float:right;\">1,455,271</div>,\n",
       " <div style=\"float:right;\">2</div>,\n",
       " <div style=\"float:right;\">1,839,106</div>,\n",
       " <div style=\"float:right;\">2</div>,\n",
       " <div style=\"float:right;\">12,812,508</div>,\n",
       " <div style=\"float:right;\">17</div>,\n",
       " <div style=\"float:right;\">6,785,528</div>,\n",
       " <div style=\"float:right;\">9</div>,\n",
       " <div style=\"float:right;\">3,190,369</div>,\n",
       " <div style=\"float:right;\">4</div>,\n",
       " <div style=\"float:right;\">2,937,880</div>,\n",
       " <div style=\"float:right;\">4</div>,\n",
       " <div style=\"float:right;\">4,505,836</div>,\n",
       " <div style=\"float:right;\">6</div>,\n",
       " <div style=\"float:right;\">4,657,757</div>,\n",
       " <div style=\"float:right;\">6</div>,\n",
       " <div style=\"float:right;\">1,362,359</div>,\n",
       " <div style=\"float:right;\">2</div>,\n",
       " <div style=\"float:right;\">6,177,224</div>,\n",
       " <div style=\"float:right;\">8</div>,\n",
       " <div style=\"float:right;\">7,029,917</div>,\n",
       " <div style=\"float:right;\">9</div>,\n",
       " <div style=\"float:right;\">10,077,331</div>,\n",
       " <div style=\"float:right;\">13</div>,\n",
       " <div style=\"float:right;\">5,706,494</div>,\n",
       " <div style=\"float:right;\">8</div>,\n",
       " <div style=\"float:right;\">2,961,279</div>,\n",
       " <div style=\"float:right;\">4</div>,\n",
       " <div style=\"float:right;\">6,154,913</div>,\n",
       " <div style=\"float:right;\">8</div>,\n",
       " <div style=\"float:right;\">1,084,225</div>,\n",
       " <div style=\"float:right;\">2</div>,\n",
       " <div style=\"float:right;\">1,961,504</div>,\n",
       " <div style=\"float:right;\">3</div>,\n",
       " <div style=\"float:right;\">3,104,614</div>,\n",
       " <div style=\"float:right;\">4</div>,\n",
       " <div style=\"float:right;\">1,377,529</div>,\n",
       " <div style=\"float:right;\">2</div>,\n",
       " <div style=\"float:right;\">9,288,994</div>,\n",
       " <div style=\"float:right;\">12</div>,\n",
       " <div style=\"float:right;\">2,117,522</div>,\n",
       " <div style=\"float:right;\">3</div>,\n",
       " <div style=\"float:right;\">20,201,249</div>,\n",
       " <div style=\"float:right;\">26</div>,\n",
       " <div style=\"float:right;\">10,439,388</div>,\n",
       " <div style=\"float:right;\">14</div>,\n",
       " <div style=\"float:right;\">779,094</div>,\n",
       " <div style=\"float:right;\">1</div>,\n",
       " <div style=\"float:right;\">11,799,448</div>,\n",
       " <div style=\"float:right;\">15</div>,\n",
       " <div style=\"float:right;\">3,959,353</div>,\n",
       " <div style=\"float:right;\">5</div>,\n",
       " <div style=\"float:right;\">4,237,256</div>,\n",
       " <div style=\"float:right;\">6</div>,\n",
       " <div style=\"float:right;\">13,002,700</div>,\n",
       " <div style=\"float:right;\">17</div>,\n",
       " <div style=\"float:right;\">1,097,379</div>,\n",
       " <div style=\"float:right;\">2</div>,\n",
       " <div style=\"float:right;\">5,118,425</div>,\n",
       " <div style=\"float:right;\">7</div>,\n",
       " <div style=\"float:right;\">886,667</div>,\n",
       " <div style=\"float:right;\">1</div>,\n",
       " <div style=\"float:right;\">6,910,840</div>,\n",
       " <div style=\"float:right;\">9</div>,\n",
       " <div style=\"float:right;\">29,145,505</div>,\n",
       " <div style=\"float:right;\">38</div>,\n",
       " <div style=\"float:right;\">3,271,616</div>,\n",
       " <div style=\"float:right;\">4</div>,\n",
       " <div style=\"float:right;\">643,077</div>,\n",
       " <div style=\"float:right;\">1</div>,\n",
       " <div style=\"float:right;\">8,631,393</div>,\n",
       " <div style=\"float:right;\">11</div>,\n",
       " <div style=\"float:right;\">7,705,281</div>,\n",
       " <div style=\"float:right;\">10</div>,\n",
       " <div style=\"float:right;\">1,793,716</div>,\n",
       " <div style=\"float:right;\">2</div>,\n",
       " <div style=\"float:right;\">5,893,718</div>,\n",
       " <div style=\"float:right;\">8</div>,\n",
       " <div style=\"float:right;\">576,851</div>,\n",
       " <div style=\"float:right;\">1</div>,\n",
       " <div style=\"float:right;\">49,710</div>,\n",
       " <div style=\"float:right;\">1<sup class=\"reference\" id=\"cite_ref-nv-d_17-1\"><a href=\"#cite_note-nv-d-17\">[C]</a></sup></div>,\n",
       " <div style=\"float:right;\">153,836</div>,\n",
       " <div style=\"float:right;\">1<sup class=\"reference\" id=\"cite_ref-nv-d_17-2\"><a href=\"#cite_note-nv-d-17\">[C]</a></sup></div>,\n",
       " <div style=\"float:right;\">47,329</div>,\n",
       " <div style=\"float:right;\">1<sup class=\"reference\" id=\"cite_ref-nv-d_17-3\"><a href=\"#cite_note-nv-d-17\">[C]</a></sup></div>,\n",
       " <div style=\"float:right;\">3,285,874</div>,\n",
       " <div style=\"float:right;\">1<sup class=\"reference\" id=\"cite_ref-nv-r_28-0\"><a href=\"#cite_note-nv-r-28\">[F]</a></sup></div>,\n",
       " <div style=\"float:right;\">87,146</div>,\n",
       " <div style=\"float:right;\">1<sup class=\"reference\" id=\"cite_ref-nv-d_17-4\"><a href=\"#cite_note-nv-d-17\">[C]</a></sup></div>]"
      ]
     },
     "execution_count": 138,
     "metadata": {},
     "output_type": "execute_result"
    }
   ],
   "source": [
    "population_divs"
   ]
  },
  {
   "cell_type": "code",
   "execution_count": 139,
   "id": "2b550d17",
   "metadata": {},
   "outputs": [],
   "source": [
    "# states =[]\n",
    "# for i in range(len(population_divs)):\n",
    "#     if i % 2 == 0:\n",
    "#         print(population_divs[i].text)\n"
   ]
  },
  {
   "cell_type": "code",
   "execution_count": 140,
   "id": "9cf158a9",
   "metadata": {},
   "outputs": [],
   "source": [
    "population = []\n",
    "\n",
    "for i in range(len(population_divs)):\n",
    "    if i % 2 == 0:\n",
    "        population_text = population_divs[i].text.strip().replace(\",\", \"\")\n",
    "        try:\n",
    "            population_value = int(population_text)\n",
    "            population.append(population_value)\n",
    "        except:\n",
    "            continue\n",
    "            \n",
    "\n",
    "# Print the list of population\n",
    "# print(population)"
   ]
  },
  {
   "cell_type": "code",
   "execution_count": 141,
   "id": "e39b0cf4",
   "metadata": {},
   "outputs": [
    {
     "data": {
      "text/plain": [
       "[5024279,\n",
       " 733391,\n",
       " 7151502,\n",
       " 3011524,\n",
       " 39538223,\n",
       " 5773714,\n",
       " 3605944,\n",
       " 989948,\n",
       " 21538187,\n",
       " 10711908,\n",
       " 1455271,\n",
       " 1839106,\n",
       " 12812508,\n",
       " 6785528,\n",
       " 3190369,\n",
       " 2937880,\n",
       " 4505836,\n",
       " 4657757,\n",
       " 1362359,\n",
       " 6177224,\n",
       " 7029917,\n",
       " 10077331,\n",
       " 5706494,\n",
       " 2961279,\n",
       " 6154913,\n",
       " 1084225,\n",
       " 1961504,\n",
       " 3104614,\n",
       " 1377529,\n",
       " 9288994,\n",
       " 2117522,\n",
       " 20201249,\n",
       " 10439388,\n",
       " 779094,\n",
       " 11799448,\n",
       " 3959353,\n",
       " 4237256,\n",
       " 13002700,\n",
       " 1097379,\n",
       " 5118425,\n",
       " 886667,\n",
       " 6910840,\n",
       " 29145505,\n",
       " 3271616,\n",
       " 643077,\n",
       " 8631393,\n",
       " 7705281,\n",
       " 1793716,\n",
       " 5893718,\n",
       " 576851,\n",
       " 49710,\n",
       " 153836,\n",
       " 47329,\n",
       " 3285874,\n",
       " 87146]"
      ]
     },
     "execution_count": 141,
     "metadata": {},
     "output_type": "execute_result"
    }
   ],
   "source": [
    "population"
   ]
  },
  {
   "cell_type": "code",
   "execution_count": 142,
   "id": "2b364d62",
   "metadata": {},
   "outputs": [
    {
     "name": "stdout",
     "output_type": "stream",
     "text": [
      "{'Alabama': 5024279, 'Alaska': 733391, 'Arizona': 7151502, 'Arkansas': 3011524, 'California': 39538223, 'Colorado': 5773714, 'Connecticut': 3605944, 'Delaware': 989948, 'Florida': 21538187, 'Georgia': 10711908, 'Hawaii': 1455271, 'Idaho': 1839106, 'Illinois': 12812508, 'Indiana': 6785528, 'Iowa': 3190369, 'Kansas': 2937880, 'Kentucky': 4505836, 'Louisiana': 4657757, 'Maine': 1362359, 'Maryland': 6177224, 'Massachusetts': 7029917, 'Michigan': 10077331, 'Minnesota': 5706494, 'Mississippi': 2961279, 'Missouri': 6154913, 'Montana': 1084225, 'Nebraska': 1961504, 'Nevada': 3104614, 'New Hampshire': 1377529, 'New Jersey': 9288994, 'New Mexico': 2117522, 'New York': 20201249, 'North Carolina': 10439388, 'North Dakota': 779094, 'Ohio': 11799448, 'Oklahoma': 3959353, 'Oregon': 4237256, 'Pennsylvania': 13002700, 'Rhode Island': 1097379, 'South Carolina': 5118425, 'South Dakota': 886667, 'Tennessee': 6910840, 'Texas': 29145505, 'Utah': 3271616, 'Vermont': 643077, 'Virginia': 8631393, 'Washington': 7705281, 'West Virginia': 1793716, 'Wisconsin': 5893718, 'Wyoming': 576851}\n"
     ]
    }
   ],
   "source": [
    "state_population = {state: pop for state, pop in zip(states, population)}\n",
    "print(state_population)\n"
   ]
  },
  {
   "cell_type": "code",
   "execution_count": null,
   "id": "24e7c928",
   "metadata": {},
   "outputs": [],
   "source": []
  }
 ],
 "metadata": {
  "kernelspec": {
   "display_name": "Python 3 (ipykernel)",
   "language": "python",
   "name": "python3"
  },
  "language_info": {
   "codemirror_mode": {
    "name": "ipython",
    "version": 3
   },
   "file_extension": ".py",
   "mimetype": "text/x-python",
   "name": "python",
   "nbconvert_exporter": "python",
   "pygments_lexer": "ipython3",
   "version": "3.11.5"
  }
 },
 "nbformat": 4,
 "nbformat_minor": 5
}
